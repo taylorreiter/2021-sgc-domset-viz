{
 "cells": [
  {
   "cell_type": "code",
   "execution_count": 1,
   "id": "e927794d-82d7-455e-b42b-79fe87ed624e",
   "metadata": {},
   "outputs": [],
   "source": [
    "DATASET = 'dory'\n",
    "KSIZE = 21\n",
    "RADIUS = 1\n",
    "PROJECT_ROOT = 'demo'\n",
    "CDBG_DIR = f'{PROJECT_ROOT}/{DATASET}_k{KSIZE}'\n",
    "CATLAS_DIR = f'{CDBG_DIR}_r{RADIUS}'\n",
    "CDBG_PATH = f'{CDBG_DIR}/cdbg.gxt'\n",
    "FIRST_DOMS_PATH = f'{CATLAS_DIR}/first_doms.txt'\n",
    "CATLAS_PATH = f'{CATLAS_DIR}/catlas.csv'"
   ]
  },
  {
   "cell_type": "code",
   "execution_count": 2,
   "id": "1dc2543e-44ad-49b6-b8e7-ef3d4cbda85b",
   "metadata": {},
   "outputs": [],
   "source": [
    "import networkx as nx\n",
    "from typing import List, Dict"
   ]
  },
  {
   "cell_type": "code",
   "execution_count": 3,
   "id": "0725698d-41d8-4582-998c-cce5c57f6c48",
   "metadata": {},
   "outputs": [],
   "source": [
    "def to_nx_graph(g):\n",
    "    return nx.from_edgelist((u, v) for u, v, w in g.arcs())"
   ]
  },
  {
   "cell_type": "code",
   "execution_count": 4,
   "id": "72827f71-0af1-45e4-8f64-4aa9621ea001",
   "metadata": {},
   "outputs": [],
   "source": [
    "def read_gxt(path: str) -> nx.Graph:\n",
    "    \"\"\"Reads SpaceGraphCats graph representation and converts it to a NetworkX graph.\n",
    "\n",
    "    Args:\n",
    "        path: path to the input file\n",
    "    Return:\n",
    "        NetworkX Graph instance        \n",
    "    \"\"\"\n",
    "    G = nx.Graph()\n",
    "    \n",
    "    try:\n",
    "        # Open and read file\n",
    "        with open(path) as file:\n",
    "    \n",
    "            # Extract the number of vertices and add create each vertex\n",
    "            num_vert = int(file.readline())            \n",
    "            G = nx.empty_graph(num_vert)\n",
    "        \n",
    "            # Add an edge for each remaining line in the file\n",
    "            for line in file:\n",
    "                numbers = line.split()\n",
    "                G.add_edge(int(numbers[0]), int(numbers[1]))\n",
    "                \n",
    "    except OSError:\n",
    "        raise OSError('Error opening or closing the file.')\n",
    "    except ValueError:\n",
    "        raise ValueError('Unexpected contents in file.')\n",
    "            \n",
    "    return G"
   ]
  },
  {
   "cell_type": "code",
   "execution_count": 5,
   "id": "49d44603-074e-4b63-927a-a53dba49b095",
   "metadata": {},
   "outputs": [],
   "source": [
    "def read_partitions(path: str) -> Dict[int, List[int]]:\n",
    "    \"\"\" Reads SpaceGraphCats lists of dominators and their neighbors. Returns a dictionary mapping each dominator to the vertices it dominates.\n",
    "    \n",
    "    Args:\n",
    "        path: path to the input file\n",
    "    Return:\n",
    "        Dict[int List[int]]: maps dominators to the vertices it dominates.\n",
    "    \"\"\"\n",
    "    dom_dict = {}\n",
    "    \n",
    "    try:\n",
    "        # Open and read file\n",
    "        with open(path) as file:\n",
    "            for line in file:\n",
    "                numbers = line.split()\n",
    "                \n",
    "                if (len(numbers) == 1):\n",
    "                    raise ValueError('Unexpected contents in file.')\n",
    "                \n",
    "                part_list = []\n",
    "                for i in range(1, len(numbers)):\n",
    "                    part_list.append(int(numbers[i]))\n",
    "                dom_dict[int(numbers[0])] = part_list\n",
    "                \n",
    "    except OSError:\n",
    "        raise OSError('Error opening or closing the file.')\n",
    "    except ValueError:\n",
    "        raise ValueError('Unexpected contents in file.')\n",
    "    \n",
    "    return dom_dict"
   ]
  },
  {
   "cell_type": "code",
   "execution_count": 6,
   "id": "475918c9-05bf-433a-bf98-1a303c241092",
   "metadata": {},
   "outputs": [],
   "source": [
    "# load assignments\n",
    "def load_assignments(level):\n",
    "    if level == 1:\n",
    "        # load 1st level partitioning\n",
    "        first_doms = read_partitions(FIRST_DOMS_PATH)\n",
    "\n",
    "        # use hash for more balanced colors (ideally, find proper coloring)\n",
    "        return first_doms.keys(), {v: hash(str(d)) for d, vs in first_doms.items() for v in vs}\n",
    "    else:\n",
    "        doms = {}\n",
    "        idx_to_vtx = {}\n",
    "\n",
    "        with open(CATLAS_PATH) as f:\n",
    "            for line in f:\n",
    "                idx, v, lv, cld = line.split(',')\n",
    "                idx, v, lv = map(int, [idx, v, lv])\n",
    "                if lv == level:\n",
    "                    doms[v] = map(int, cld.split())\n",
    "                elif lv == level - 1:\n",
    "                    idx_to_vtx[idx] = v\n",
    "\n",
    "        return doms.keys(), {idx_to_vtx[i]: hash(str(d)) for d, vs in doms.items() for i in vs}"
   ]
  },
  {
   "cell_type": "code",
   "execution_count": 7,
   "id": "9677edb6-57ca-4431-97a3-28a83503b219",
   "metadata": {},
   "outputs": [],
   "source": [
    "def write_atlas_level_to_gml(proj, level):\n",
    "    file_name = f'{CATLAS_DIR}/level_{level}_atlas.gml'\n",
    "    \n",
    "    # load cDBG without isolates if level 0\n",
    "    if level == 0:\n",
    "        G0 = read_gxt(CDBG_PATH) # load the original cDBG\n",
    "        isolates = [v for v in G0 if G0.degree(v) == 0] # find isolates\n",
    "        G0.remove_nodes_from(isolates) # remove isolates\n",
    "        G = G0\n",
    "    \n",
    "    # load level from checkpoint and generate graph\n",
    "    else:\n",
    "        proj.load_checkpoint(level)\n",
    "        G = to_nx_graph(proj.graph)\n",
    "        \n",
    "    # write graph to gml\n",
    "    nx.write_gml(G, file_name)"
   ]
  },
  {
   "cell_type": "code",
   "execution_count": 8,
   "id": "acc9e9e2-0b9b-4219-8079-cd11f486a24c",
   "metadata": {},
   "outputs": [],
   "source": [
    "# load project\n",
    "import spacegraphcats.catlas.catlas\n",
    "\n",
    "proj = spacegraphcats.catlas.catlas.Project(CDBG_DIR, CATLAS_DIR, RADIUS)"
   ]
  },
  {
   "cell_type": "code",
   "execution_count": 9,
   "id": "c4d63b73-d11f-47ea-a715-6b25fe0316e8",
   "metadata": {},
   "outputs": [
    {
     "name": "stdout",
     "output_type": "stream",
     "text": [
      "Loading results of building level 2\n"
     ]
    }
   ],
   "source": [
    "write_atlas_level_to_gml(proj, 2)"
   ]
  }
 ],
 "metadata": {
  "kernelspec": {
   "display_name": "Python 3",
   "language": "python",
   "name": "python3"
  },
  "language_info": {
   "codemirror_mode": {
    "name": "ipython",
    "version": 3
   },
   "file_extension": ".py",
   "mimetype": "text/x-python",
   "name": "python",
   "nbconvert_exporter": "python",
   "pygments_lexer": "ipython3",
   "version": "3.8.10"
  }
 },
 "nbformat": 4,
 "nbformat_minor": 5
}
